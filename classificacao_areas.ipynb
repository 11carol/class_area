{
 "cells": [
  {
   "cell_type": "markdown",
   "metadata": {},
   "source": [
    "# Classificação de Áreas\n"
   ]
  },
  {
   "cell_type": "markdown",
   "metadata": {},
   "source": [
    "## Importando Bibliotecas\n"
   ]
  },
  {
   "cell_type": "code",
   "execution_count": 10,
   "metadata": {},
   "outputs": [],
   "source": [
    "from osgeo import gdal\n",
    "import pandas as pd\n",
    "gdal.UseExceptions()\n",
    "import numpy as np\n",
    "import matplotlib as plt\n",
    "#import matplotlib.image as mpimg\n",
    "from sklearn.tree import DecisionTreeClassifier"
   ]
  },
  {
   "cell_type": "markdown",
   "metadata": {},
   "source": [
    "## Abrindo as amostras para classificação"
   ]
  },
  {
   "cell_type": "code",
   "execution_count": 2,
   "metadata": {},
   "outputs": [
    {
     "name": "stdout",
     "output_type": "stream",
     "text": [
      "Imagem TIFF\n",
      "2412 2340 4 Portable Network Graphics\n",
      "Imagem SHAPEFILE\n",
      "2392 2380 4 Portable Network Graphics\n"
     ]
    }
   ],
   "source": [
    "filenametiff = \"data/recorte_tiff - Copia.png\"\n",
    "filenameshp = \"data/recorte_shp.png\"\n",
    "datasettiff = gdal.Open(filenametiff, gdal.GA_ReadOnly)\n",
    "datasetshp = gdal.Open(filenameshp, gdal.GA_ReadOnly) \n",
    "\n",
    "cols_tiff = datasettiff.RasterXSize\n",
    "rows_tiff = datasettiff.RasterYSize\n",
    "bands_tiff = datasettiff.RasterCount\n",
    "driver_tiff = datasettiff.GetDriver().LongName #Verif\n",
    "print('Imagem TIFF')\n",
    "print(cols_tiff,rows_tiff,bands_tiff,driver_tiff)\n",
    "\n",
    "cols_shp = datasetshp.RasterXSize\n",
    "rows_shp = datasetshp.RasterYSize\n",
    "bands_shp = datasetshp.RasterCount\n",
    "driver_shp = datasetshp.GetDriver().LongName #Verif\n",
    "print('Imagem SHAPEFILE')\n",
    "print(cols_shp,rows_shp,bands_shp,driver_shp)\n",
    "\n"
   ]
  },
  {
   "cell_type": "code",
   "execution_count": 3,
   "metadata": {},
   "outputs": [
    {
     "name": "stdout",
     "output_type": "stream",
     "text": [
      "(0.0, 1.0, 0.0, 0.0, 0.0, 1.0)\n",
      "(0.0, 1.0, 0.0, 0.0, 0.0, 1.0)\n"
     ]
    }
   ],
   "source": [
    "geotransformtiff = datasettiff.GetGeoTransform() #tranforma as coordenadas de pixel em espaço geográfico \n",
    "print(geotransformtiff)\n",
    "\n",
    "geotransformshp = datasetshp.GetGeoTransform() \n",
    "print(geotransformshp)"
   ]
  },
  {
   "cell_type": "code",
   "execution_count": 4,
   "metadata": {},
   "outputs": [
    {
     "name": "stdout",
     "output_type": "stream",
     "text": [
      "OriginX= 0.0\n",
      "OriginY= 0.0\n",
      "pixelWidth= 1.0\n",
      "pixelHeight= 1.0\n",
      "OriginX= 0.0\n",
      "OriginY= 0.0\n",
      "pixelWidth= 1.0\n",
      "pixelHeight= 1.0\n"
     ]
    }
   ],
   "source": [
    "originX = geotransformtiff[0]\n",
    "originY = geotransformtiff[3]\n",
    "pixelWidth = geotransformtiff[1]\n",
    "pixelHeight = geotransformtiff[5]\n",
    "\n",
    "print('OriginX=' , originX)\n",
    "print('OriginY=' ,originY)\n",
    "print('pixelWidth=' ,pixelWidth)\n",
    "print('pixelHeight=' ,pixelHeight)\n",
    "\n",
    "originX = geotransformshp[0]\n",
    "originY = geotransformshp[3]\n",
    "pixelWidth = geotransformshp[1]\n",
    "pixelHeight = geotransformshp[5]\n",
    "\n",
    "print('OriginX=' , originX)\n",
    "print('OriginY=' ,originY)\n",
    "print('pixelWidth=' ,pixelWidth)\n",
    "print('pixelHeight=' ,pixelHeight)\n"
   ]
  },
  {
   "cell_type": "code",
   "execution_count": 5,
   "metadata": {},
   "outputs": [],
   "source": [
    "#Separando as bandas da imagem tiff\n",
    "band1_tiff = datasettiff.GetRasterBand(1)\n",
    "data1_tiff = band1_tiff.ReadAsArray(0, 0, cols_tiff, rows_tiff)\n",
    "\n",
    "band2_tiff = datasettiff.GetRasterBand(2)\n",
    "data2_tiff = band2_tiff.ReadAsArray(0, 0, cols_tiff, rows_tiff)\n",
    "\n",
    "band3_tiff = datasettiff.GetRasterBand(3)\n",
    "data3_tiff = band3_tiff.ReadAsArray(0, 0, cols_tiff, rows_tiff)\n",
    "#Montando o array com os valores do RGB\n",
    "rgb_tiff = np.dstack((data1_tiff, data2_tiff, data3_tiff))\n",
    "\n",
    "#print (rgb_tiff)"
   ]
  },
  {
   "cell_type": "code",
   "execution_count": 6,
   "metadata": {},
   "outputs": [],
   "source": [
    "#Separando as bandas da imagem shp\n",
    "band1_shp = datasetshp.GetRasterBand(1)\n",
    "data1_shp = band1_shp.ReadAsArray(0, 0, cols_shp, rows_shp)\n",
    "\n",
    "band2_shp = datasetshp.GetRasterBand(2)\n",
    "data2_shp = band2_shp.ReadAsArray(0, 0, cols_shp, rows_shp)\n",
    "\n",
    "band3_shp = datasetshp.GetRasterBand(3)\n",
    "data3_shp = band3_shp.ReadAsArray(0, 0, cols_shp, rows_shp)\n",
    "#Montando o array com os valores do RGB\n",
    "rgb_shp = np.dstack((data1_shp,data2_shp,data3_shp))\n",
    "\n",
    "#print (rgb_shp)"
   ]
  },
  {
   "cell_type": "code",
   "execution_count": 22,
   "metadata": {},
   "outputs": [],
   "source": [
    "#np.savetxt('test.txt', rgb,fmt='%s',delimiter=\",\")\n",
    "arq = open(\"data.csv\", \"w\")\n",
    "arq.write(\"X, Y, B1_ORIGINAL, B2_ORIGINAL, B3_ORIGINAL, CLASSIFICACAO \\n\")\n",
    "\n",
    "preservada = 0; #false\n",
    "\n",
    "for i in range(rows_tiff):\n",
    "    for j in range(cols_shp):\n",
    "        #if((rgb_tiff[i][j][0] == 255) and (rgb_tiff[i][j][0] == 255) and (rgb_tiff[i][j][0] == 255)):\n",
    "        #arq.write(\"%s, %s, [%s-%s-%s]\\n\"% (i,j,rgb_tiff[i][j][0],rgb_tiff[i][j][1],rgb_tiff[i][j][2]));\n",
    "        if ((rgb_tiff[i][j][0] != 255) and (rgb_tiff[i][j][1] != 255) and (rgb_tiff[i][j][2] != 255)):\n",
    "            \n",
    "            if((rgb_shp[i][j][0] == 9) and (rgb_shp[i][j][1] == 1) and (rgb_shp[i][j][2] == 255)):\n",
    "                arq.write(\"%s, %s, %s, %s, %s,agua \\n\"% (i,j,rgb_tiff[i][j][0],rgb_tiff[i][j][1],rgb_tiff[i][j][2]));\n",
    "                preservada = 1; # Area preservada\n",
    "                #print(preservada)\n",
    "                \n",
    "            if ((rgb_shp[i][j][0] == 4) and (rgb_shp[i][j][1] == 57) and (rgb_shp[i][j][2] == 205)):\n",
    "                arq.write(\"%s, %s, %s, %s, %s, %s,Várzea \\n\"% (i,j,rgb_tiff[i][j][0],rgb_tiff[i][j][1],rgb_tiff[i][j][2]));\n",
    "\n",
    "            elif ((rgb_shp[i][j][0] == 1) and (rgb_shp[i][j][1] == 4) and (rgb_shp[i][j][2] == 24)):\n",
    "                arq.write(\"%s, %s, %s, %s, %s, %s,Igapó \\n\"% (i,j,rgb_tiff[i][j][0],rgb_tiff[i][j][1],rgb_tiffl[i][j][2]));\n",
    "\n",
    "            elif ((rgb_shp[i][j][0] == 3) and (rgb_shp[i][j][1] == 22) and (rgb_shp[i][j][2] == 155)):\n",
    "                arq.write(\"%s, %s, %s, %s, %s, %s,Zona de Trnsição \\n\"% (i,j,rgb_tiff[i][j][0],rgb_tiff[i][j][1],rgb_tiff[i][j][2]));\n",
    "\n",
    "            if ((rgb_shp[i][j][0] == 252) and (rgb_shp[i][j][1] == 158) and (rgb_shp[i][j][2] == 8)):\n",
    "                arq.write(\"%s, %s, %s, %s, %s,Solo exposto \\n\"% (i,j,rgb_tiff[i][j][0],rgb_tiff[i][j][1],rgb_tiff[i][j][2]));\n",
    "                \n",
    "            elif ((rgb_shp[i][j][0] == 0) and (rgb_shp[i][j][1] == 86) and (rgb_shp[i][j][2] == 44)):\n",
    "                arq.write(\"%s, %s, %s, %s, %s,Floresta \\n\"% (i,j,rgb_tiff[i][j][0],rgb_tiff[i][j][1],rgb_tiff[i][j][2]));\n",
    "\n",
    "        preservada = 0\n",
    "\n",
    "arq.close()\n",
    "\n",
    "#plt.figure(1)\n",
    "#plt.imshow(rgb_Original, interpolation='nearest')\n",
    "#plt.grid()\n",
    "#plt.figure(2)\n",
    "#plt.imshow(rgb_TC, interpolation='nearest')\n",
    "#plt.grid()\n",
    "#plt.figure(3)\n",
    "#plt.imshow(rgb_Passada, interpolation='nearest')\n",
    "#plt.grid()\n",
    "#plt.show()\n",
    "\n"
   ]
  },
  {
   "cell_type": "code",
   "execution_count": 23,
   "metadata": {},
   "outputs": [],
   "source": [
    "data1 = pd.read_csv('data.csv', encoding = \"ISO-8859-1\")\n",
    "\n"
   ]
  },
  {
   "cell_type": "code",
   "execution_count": 24,
   "metadata": {},
   "outputs": [],
   "source": [
    "varzea = data1[' CLASSIFICACAO ']=='Água'"
   ]
  },
  {
   "cell_type": "code",
   "execution_count": 25,
   "metadata": {},
   "outputs": [
    {
     "data": {
      "text/plain": [
       "0          False\n",
       "1          False\n",
       "2          False\n",
       "3          False\n",
       "4          False\n",
       "5          False\n",
       "6          False\n",
       "7          False\n",
       "8          False\n",
       "9          False\n",
       "10         False\n",
       "11         False\n",
       "12         False\n",
       "13         False\n",
       "14         False\n",
       "15         False\n",
       "16         False\n",
       "17         False\n",
       "18         False\n",
       "19         False\n",
       "20         False\n",
       "21         False\n",
       "22         False\n",
       "23         False\n",
       "24         False\n",
       "25         False\n",
       "26         False\n",
       "27         False\n",
       "28         False\n",
       "29         False\n",
       "           ...  \n",
       "1288938    False\n",
       "1288939    False\n",
       "1288940    False\n",
       "1288941    False\n",
       "1288942    False\n",
       "1288943    False\n",
       "1288944    False\n",
       "1288945    False\n",
       "1288946    False\n",
       "1288947    False\n",
       "1288948    False\n",
       "1288949    False\n",
       "1288950    False\n",
       "1288951    False\n",
       "1288952    False\n",
       "1288953    False\n",
       "1288954    False\n",
       "1288955    False\n",
       "1288956    False\n",
       "1288957    False\n",
       "1288958    False\n",
       "1288959    False\n",
       "1288960    False\n",
       "1288961    False\n",
       "1288962    False\n",
       "1288963    False\n",
       "1288964    False\n",
       "1288965    False\n",
       "1288966    False\n",
       "1288967    False\n",
       "Name:  CLASSIFICACAO , Length: 1288968, dtype: bool"
      ]
     },
     "execution_count": 25,
     "metadata": {},
     "output_type": "execute_result"
    }
   ],
   "source": [
    "varzea"
   ]
  },
  {
   "cell_type": "code",
   "execution_count": null,
   "metadata": {},
   "outputs": [],
   "source": []
  }
 ],
 "metadata": {
  "kernelspec": {
   "display_name": "Python 3",
   "language": "python",
   "name": "python3"
  },
  "language_info": {
   "codemirror_mode": {
    "name": "ipython",
    "version": 3
   },
   "file_extension": ".py",
   "mimetype": "text/x-python",
   "name": "python",
   "nbconvert_exporter": "python",
   "pygments_lexer": "ipython3",
   "version": "3.7.3"
  }
 },
 "nbformat": 4,
 "nbformat_minor": 4
}
