{
 "cells": [
  {
   "cell_type": "markdown",
   "metadata": {},
   "source": [
    "# Classificação de Áreas\n"
   ]
  },
  {
   "cell_type": "markdown",
   "metadata": {},
   "source": [
    "## Importando Bibliotecas\n"
   ]
  },
  {
   "cell_type": "code",
   "execution_count": 1,
   "metadata": {},
   "outputs": [
    {
     "name": "stderr",
     "output_type": "stream",
     "text": [
      "C:\\ProgramData\\Anaconda3\\lib\\site-packages\\sklearn\\linear_model\\least_angle.py:30: DeprecationWarning: `np.float` is a deprecated alias for the builtin `float`. To silence this warning, use `float` by itself. Doing this will not modify any behavior and is safe. If you specifically wanted the numpy scalar type, use `np.float64` here.\n",
      "Deprecated in NumPy 1.20; for more details and guidance: https://numpy.org/devdocs/release/1.20.0-notes.html#deprecations\n",
      "  method='lar', copy_X=True, eps=np.finfo(np.float).eps,\n",
      "C:\\ProgramData\\Anaconda3\\lib\\site-packages\\sklearn\\linear_model\\least_angle.py:167: DeprecationWarning: `np.float` is a deprecated alias for the builtin `float`. To silence this warning, use `float` by itself. Doing this will not modify any behavior and is safe. If you specifically wanted the numpy scalar type, use `np.float64` here.\n",
      "Deprecated in NumPy 1.20; for more details and guidance: https://numpy.org/devdocs/release/1.20.0-notes.html#deprecations\n",
      "  method='lar', copy_X=True, eps=np.finfo(np.float).eps,\n",
      "C:\\ProgramData\\Anaconda3\\lib\\site-packages\\sklearn\\linear_model\\least_angle.py:284: DeprecationWarning: `np.float` is a deprecated alias for the builtin `float`. To silence this warning, use `float` by itself. Doing this will not modify any behavior and is safe. If you specifically wanted the numpy scalar type, use `np.float64` here.\n",
      "Deprecated in NumPy 1.20; for more details and guidance: https://numpy.org/devdocs/release/1.20.0-notes.html#deprecations\n",
      "  eps=np.finfo(np.float).eps, copy_Gram=True, verbose=0,\n",
      "C:\\ProgramData\\Anaconda3\\lib\\site-packages\\sklearn\\linear_model\\least_angle.py:862: DeprecationWarning: `np.float` is a deprecated alias for the builtin `float`. To silence this warning, use `float` by itself. Doing this will not modify any behavior and is safe. If you specifically wanted the numpy scalar type, use `np.float64` here.\n",
      "Deprecated in NumPy 1.20; for more details and guidance: https://numpy.org/devdocs/release/1.20.0-notes.html#deprecations\n",
      "  eps=np.finfo(np.float).eps, copy_X=True, fit_path=True,\n",
      "C:\\ProgramData\\Anaconda3\\lib\\site-packages\\sklearn\\linear_model\\least_angle.py:1101: DeprecationWarning: `np.float` is a deprecated alias for the builtin `float`. To silence this warning, use `float` by itself. Doing this will not modify any behavior and is safe. If you specifically wanted the numpy scalar type, use `np.float64` here.\n",
      "Deprecated in NumPy 1.20; for more details and guidance: https://numpy.org/devdocs/release/1.20.0-notes.html#deprecations\n",
      "  eps=np.finfo(np.float).eps, copy_X=True, fit_path=True,\n",
      "C:\\ProgramData\\Anaconda3\\lib\\site-packages\\sklearn\\linear_model\\least_angle.py:1127: DeprecationWarning: `np.float` is a deprecated alias for the builtin `float`. To silence this warning, use `float` by itself. Doing this will not modify any behavior and is safe. If you specifically wanted the numpy scalar type, use `np.float64` here.\n",
      "Deprecated in NumPy 1.20; for more details and guidance: https://numpy.org/devdocs/release/1.20.0-notes.html#deprecations\n",
      "  eps=np.finfo(np.float).eps, positive=False):\n",
      "C:\\ProgramData\\Anaconda3\\lib\\site-packages\\sklearn\\linear_model\\least_angle.py:1362: DeprecationWarning: `np.float` is a deprecated alias for the builtin `float`. To silence this warning, use `float` by itself. Doing this will not modify any behavior and is safe. If you specifically wanted the numpy scalar type, use `np.float64` here.\n",
      "Deprecated in NumPy 1.20; for more details and guidance: https://numpy.org/devdocs/release/1.20.0-notes.html#deprecations\n",
      "  max_n_alphas=1000, n_jobs=None, eps=np.finfo(np.float).eps,\n",
      "C:\\ProgramData\\Anaconda3\\lib\\site-packages\\sklearn\\linear_model\\least_angle.py:1602: DeprecationWarning: `np.float` is a deprecated alias for the builtin `float`. To silence this warning, use `float` by itself. Doing this will not modify any behavior and is safe. If you specifically wanted the numpy scalar type, use `np.float64` here.\n",
      "Deprecated in NumPy 1.20; for more details and guidance: https://numpy.org/devdocs/release/1.20.0-notes.html#deprecations\n",
      "  max_n_alphas=1000, n_jobs=None, eps=np.finfo(np.float).eps,\n",
      "C:\\ProgramData\\Anaconda3\\lib\\site-packages\\sklearn\\linear_model\\least_angle.py:1738: DeprecationWarning: `np.float` is a deprecated alias for the builtin `float`. To silence this warning, use `float` by itself. Doing this will not modify any behavior and is safe. If you specifically wanted the numpy scalar type, use `np.float64` here.\n",
      "Deprecated in NumPy 1.20; for more details and guidance: https://numpy.org/devdocs/release/1.20.0-notes.html#deprecations\n",
      "  eps=np.finfo(np.float).eps, copy_X=True, positive=False):\n",
      "C:\\ProgramData\\Anaconda3\\lib\\site-packages\\sklearn\\decomposition\\online_lda.py:29: DeprecationWarning: `np.float` is a deprecated alias for the builtin `float`. To silence this warning, use `float` by itself. Doing this will not modify any behavior and is safe. If you specifically wanted the numpy scalar type, use `np.float64` here.\n",
      "Deprecated in NumPy 1.20; for more details and guidance: https://numpy.org/devdocs/release/1.20.0-notes.html#deprecations\n",
      "  EPS = np.finfo(np.float).eps\n"
     ]
    }
   ],
   "source": [
    "from osgeo import gdal\n",
    "gdal.UseExceptions()\n",
    "import numpy as np\n",
    "import matplotlib as plt\n",
    "#import matplotlib.image as mpimg\n",
    "from sklearn.tree import DecisionTreeClassifier"
   ]
  },
  {
   "cell_type": "markdown",
   "metadata": {},
   "source": [
    "## Abrindo as amostras para classificação"
   ]
  },
  {
   "cell_type": "code",
   "execution_count": 19,
   "metadata": {},
   "outputs": [
    {
     "name": "stdout",
     "output_type": "stream",
     "text": [
      "Imagem TIFF\n",
      "2412 2340 4 Portable Network Graphics\n",
      "Imagem SHAPEFILE\n",
      "2392 2380 4 Portable Network Graphics\n"
     ]
    }
   ],
   "source": [
    "filenametiff = \"data/recorte_tiff.png\"\n",
    "filenameshp = \"data/recorte_shp.png\"\n",
    "datasettiff = gdal.Open(filenametiff, gdal.GA_ReadOnly)\n",
    "datasetshp = gdal.Open(filenameshp, gdal.GA_ReadOnly) \n",
    "\n",
    "cols_tiff = datasettiff.RasterXSize\n",
    "rows_tiff = datasettiff.RasterYSize\n",
    "bands_tiff = datasettiff.RasterCount\n",
    "driver_tiff = datasettiff.GetDriver().LongName #Verif\n",
    "print('Imagem TIFF')\n",
    "print(cols_tiff,rows_tiff,bands_tiff,driver_tiff)\n",
    "\n",
    "cols_shp = datasetshp.RasterXSize\n",
    "rows_shp = datasetshp.RasterYSize\n",
    "bands_shp = datasetshp.RasterCount\n",
    "driver_shp = datasetshp.GetDriver().LongName #Verif\n",
    "print('Imagem SHAPEFILE')\n",
    "print(cols_shp,rows_shp,bands_shp,driver_shp)\n",
    "\n"
   ]
  },
  {
   "cell_type": "code",
   "execution_count": 12,
   "metadata": {},
   "outputs": [
    {
     "name": "stdout",
     "output_type": "stream",
     "text": [
      "(0.0, 1.0, 0.0, 0.0, 0.0, 1.0)\n",
      "(0.0, 1.0, 0.0, 0.0, 0.0, 1.0)\n"
     ]
    }
   ],
   "source": [
    "geotransformtiff = datasettiff.GetGeoTransform() #tranforma as coordenadas de pixel em espaço geográfico \n",
    "print(geotransformtiff)\n",
    "\n",
    "geotransformshp = datasetshp.GetGeoTransform() \n",
    "print(geotransformshp)"
   ]
  },
  {
   "cell_type": "code",
   "execution_count": 13,
   "metadata": {},
   "outputs": [
    {
     "name": "stdout",
     "output_type": "stream",
     "text": [
      "OriginX= 0.0\n",
      "OriginY= 0.0\n",
      "pixelWidth= 1.0\n",
      "pixelHeight= 1.0\n",
      "OriginX= 0.0\n",
      "OriginY= 0.0\n",
      "pixelWidth= 1.0\n",
      "pixelHeight= 1.0\n"
     ]
    }
   ],
   "source": [
    "originX = geotransformtiff[0]\n",
    "originY = geotransformtiff[3]\n",
    "pixelWidth = geotransformtiff[1]\n",
    "pixelHeight = geotransformtiff[5]\n",
    "\n",
    "print('OriginX=' , originX)\n",
    "print('OriginY=' ,originY)\n",
    "print('pixelWidth=' ,pixelWidth)\n",
    "print('pixelHeight=' ,pixelHeight)\n",
    "\n",
    "originX = geotransformshp[0]\n",
    "originY = geotransformshp[3]\n",
    "pixelWidth = geotransformshp[1]\n",
    "pixelHeight = geotransformshp[5]\n",
    "\n",
    "print('OriginX=' , originX)\n",
    "print('OriginY=' ,originY)\n",
    "print('pixelWidth=' ,pixelWidth)\n",
    "print('pixelHeight=' ,pixelHeight)\n"
   ]
  },
  {
   "cell_type": "code",
   "execution_count": 14,
   "metadata": {},
   "outputs": [
    {
     "name": "stdout",
     "output_type": "stream",
     "text": [
      "[[[255 255 255]\n",
      "  [255 255 255]\n",
      "  [255 255 255]\n",
      "  ...\n",
      "  [255 255 255]\n",
      "  [255 255 255]\n",
      "  [255 255 255]]\n",
      "\n",
      " [[255 255 255]\n",
      "  [255 255 255]\n",
      "  [255 255 255]\n",
      "  ...\n",
      "  [255 255 255]\n",
      "  [255 255 255]\n",
      "  [255 255 255]]\n",
      "\n",
      " [[255 255 255]\n",
      "  [255 255 255]\n",
      "  [255 255 255]\n",
      "  ...\n",
      "  [255 255 255]\n",
      "  [255 255 255]\n",
      "  [255 255 255]]\n",
      "\n",
      " ...\n",
      "\n",
      " [[255 255 255]\n",
      "  [255 255 255]\n",
      "  [255 255 255]\n",
      "  ...\n",
      "  [255 255 255]\n",
      "  [255 255 255]\n",
      "  [255 255 255]]\n",
      "\n",
      " [[255 255 255]\n",
      "  [255 255 255]\n",
      "  [255 255 255]\n",
      "  ...\n",
      "  [255 255 255]\n",
      "  [255 255 255]\n",
      "  [255 255 255]]\n",
      "\n",
      " [[255 255 255]\n",
      "  [255 255 255]\n",
      "  [255 255 255]\n",
      "  ...\n",
      "  [255 255 255]\n",
      "  [255 255 255]\n",
      "  [255 255 255]]]\n"
     ]
    }
   ],
   "source": [
    "#Separando as bandas da imagem tiff\n",
    "band1_tiff = datasettiff.GetRasterBand(1)\n",
    "data1_tiff = band1_tiff.ReadAsArray(0, 0, cols_tiff, rows_tiff)\n",
    "\n",
    "band2_tiff = datasettiff.GetRasterBand(2)\n",
    "data2_tiff = band2_tiff.ReadAsArray(0, 0, cols_tiff, rows_tiff)\n",
    "\n",
    "band3_tiff = datasettiff.GetRasterBand(3)\n",
    "data3_tiff = band3_tiff.ReadAsArray(0, 0, cols_tiff, rows_tiff)\n",
    "#Montando o array com os valores do RGB\n",
    "rgb_tiff = np.dstack((data1_tiff, data2_tiff, data3_tiff))\n",
    "\n",
    "print (rgb_tiff)"
   ]
  },
  {
   "cell_type": "code",
   "execution_count": 15,
   "metadata": {},
   "outputs": [
    {
     "name": "stdout",
     "output_type": "stream",
     "text": [
      "[[[255 255 255]\n",
      "  [114 210  19]\n",
      "  [114 210  19]\n",
      "  ...\n",
      "  [ 94 225   9]\n",
      "  [ 94 225   9]\n",
      "  [ 94 225   9]]\n",
      "\n",
      " [[255 255 255]\n",
      "  [114 210  19]\n",
      "  [114 210  19]\n",
      "  ...\n",
      "  [ 94 225   9]\n",
      "  [ 94 225   9]\n",
      "  [ 94 225   9]]\n",
      "\n",
      " [[255 255 255]\n",
      "  [114 210  19]\n",
      "  [114 210  19]\n",
      "  ...\n",
      "  [ 94 225   9]\n",
      "  [ 94 225   9]\n",
      "  [ 94 225   9]]\n",
      "\n",
      " ...\n",
      "\n",
      " [[255 255 255]\n",
      "  [170 215  74]\n",
      "  [170 215  74]\n",
      "  ...\n",
      "  [ 92 222   0]\n",
      "  [ 92 222   0]\n",
      "  [ 92 222   0]]\n",
      "\n",
      " [[255 255 255]\n",
      "  [165 225  64]\n",
      "  [165 225  64]\n",
      "  ...\n",
      "  [ 87 220   0]\n",
      "  [ 87 220   0]\n",
      "  [ 87 220   0]]\n",
      "\n",
      " [[255 255 255]\n",
      "  [165 225  64]\n",
      "  [165 225  64]\n",
      "  ...\n",
      "  [ 87 220   0]\n",
      "  [ 87 220   0]\n",
      "  [ 87 220   0]]]\n"
     ]
    }
   ],
   "source": [
    "#Separando as bandas da imagem shp\n",
    "band1_shp = datasetshp.GetRasterBand(1)\n",
    "data1_shp = band1_shp.ReadAsArray(0, 0, cols_shp, rows_shp)\n",
    "\n",
    "band2_shp = datasetshp.GetRasterBand(2)\n",
    "data2_shp = band2_shp.ReadAsArray(0, 0, cols_shp, rows_shp)\n",
    "\n",
    "band3_shp = datasetshp.GetRasterBand(3)\n",
    "data3_shp = band3_shp.ReadAsArray(0, 0, cols_shp, rows_shp)\n",
    "#Montando o array com os valores do RGB\n",
    "rgb_shp = np.dstack((data1_shp,data2_shp,data3_shp))\n",
    "\n",
    "print (rgb_shp)"
   ]
  },
  {
   "cell_type": "code",
   "execution_count": 18,
   "metadata": {},
   "outputs": [
    {
     "ename": "IndexError",
     "evalue": "index 742 is out of bounds for axis 0 with size 742",
     "output_type": "error",
     "traceback": [
      "\u001b[1;31m---------------------------------------------------------------------------\u001b[0m",
      "\u001b[1;31mIndexError\u001b[0m                                Traceback (most recent call last)",
      "\u001b[1;32m<ipython-input-18-6c7b19261706>\u001b[0m in \u001b[0;36m<module>\u001b[1;34m\u001b[0m\n\u001b[0;32m     11\u001b[0m         \u001b[1;32mif\u001b[0m \u001b[1;33m(\u001b[0m\u001b[1;33m(\u001b[0m\u001b[0mrgb_tiff\u001b[0m\u001b[1;33m[\u001b[0m\u001b[0mi\u001b[0m\u001b[1;33m]\u001b[0m\u001b[1;33m[\u001b[0m\u001b[0mj\u001b[0m\u001b[1;33m]\u001b[0m\u001b[1;33m[\u001b[0m\u001b[1;36m0\u001b[0m\u001b[1;33m]\u001b[0m \u001b[1;33m!=\u001b[0m \u001b[1;36m255\u001b[0m\u001b[1;33m)\u001b[0m \u001b[1;32mand\u001b[0m \u001b[1;33m(\u001b[0m\u001b[0mrgb_tiff\u001b[0m\u001b[1;33m[\u001b[0m\u001b[0mi\u001b[0m\u001b[1;33m]\u001b[0m\u001b[1;33m[\u001b[0m\u001b[0mj\u001b[0m\u001b[1;33m]\u001b[0m\u001b[1;33m[\u001b[0m\u001b[1;36m1\u001b[0m\u001b[1;33m]\u001b[0m \u001b[1;33m!=\u001b[0m \u001b[1;36m255\u001b[0m\u001b[1;33m)\u001b[0m \u001b[1;32mand\u001b[0m \u001b[1;33m(\u001b[0m\u001b[0mrgb_tiff\u001b[0m\u001b[1;33m[\u001b[0m\u001b[0mi\u001b[0m\u001b[1;33m]\u001b[0m\u001b[1;33m[\u001b[0m\u001b[0mj\u001b[0m\u001b[1;33m]\u001b[0m\u001b[1;33m[\u001b[0m\u001b[1;36m2\u001b[0m\u001b[1;33m]\u001b[0m \u001b[1;33m!=\u001b[0m \u001b[1;36m255\u001b[0m\u001b[1;33m)\u001b[0m\u001b[1;33m)\u001b[0m\u001b[1;33m:\u001b[0m\u001b[1;33m\u001b[0m\u001b[1;33m\u001b[0m\u001b[0m\n\u001b[0;32m     12\u001b[0m \u001b[1;33m\u001b[0m\u001b[0m\n\u001b[1;32m---> 13\u001b[1;33m             \u001b[1;32mif\u001b[0m\u001b[1;33m(\u001b[0m\u001b[1;33m(\u001b[0m\u001b[0mrgb_shp\u001b[0m\u001b[1;33m[\u001b[0m\u001b[0mi\u001b[0m\u001b[1;33m]\u001b[0m\u001b[1;33m[\u001b[0m\u001b[0mj\u001b[0m\u001b[1;33m]\u001b[0m\u001b[1;33m[\u001b[0m\u001b[1;36m0\u001b[0m\u001b[1;33m]\u001b[0m \u001b[1;33m==\u001b[0m \u001b[1;36m9\u001b[0m\u001b[1;33m)\u001b[0m \u001b[1;32mand\u001b[0m \u001b[1;33m(\u001b[0m\u001b[0mrgb_shp\u001b[0m\u001b[1;33m[\u001b[0m\u001b[0mi\u001b[0m\u001b[1;33m]\u001b[0m\u001b[1;33m[\u001b[0m\u001b[0mj\u001b[0m\u001b[1;33m]\u001b[0m\u001b[1;33m[\u001b[0m\u001b[1;36m1\u001b[0m\u001b[1;33m]\u001b[0m \u001b[1;33m==\u001b[0m \u001b[1;36m1\u001b[0m\u001b[1;33m)\u001b[0m \u001b[1;32mand\u001b[0m \u001b[1;33m(\u001b[0m\u001b[0mrgb_shp\u001b[0m\u001b[1;33m[\u001b[0m\u001b[0mi\u001b[0m\u001b[1;33m]\u001b[0m\u001b[1;33m[\u001b[0m\u001b[0mj\u001b[0m\u001b[1;33m]\u001b[0m\u001b[1;33m[\u001b[0m\u001b[1;36m2\u001b[0m\u001b[1;33m]\u001b[0m \u001b[1;33m==\u001b[0m \u001b[1;36m255\u001b[0m\u001b[1;33m)\u001b[0m\u001b[1;33m)\u001b[0m\u001b[1;33m:\u001b[0m\u001b[1;33m\u001b[0m\u001b[1;33m\u001b[0m\u001b[0m\n\u001b[0m\u001b[0;32m     14\u001b[0m                 \u001b[0marq\u001b[0m\u001b[1;33m.\u001b[0m\u001b[0mwrite\u001b[0m\u001b[1;33m(\u001b[0m\u001b[1;34m\"%s, %s, %s, %s, %s,Água \\n\"\u001b[0m\u001b[1;33m%\u001b[0m \u001b[1;33m(\u001b[0m\u001b[0mi\u001b[0m\u001b[1;33m,\u001b[0m\u001b[0mj\u001b[0m\u001b[1;33m,\u001b[0m\u001b[0mrgb_tiff\u001b[0m\u001b[1;33m[\u001b[0m\u001b[0mi\u001b[0m\u001b[1;33m]\u001b[0m\u001b[1;33m[\u001b[0m\u001b[0mj\u001b[0m\u001b[1;33m]\u001b[0m\u001b[1;33m[\u001b[0m\u001b[1;36m0\u001b[0m\u001b[1;33m]\u001b[0m\u001b[1;33m,\u001b[0m\u001b[0mrgb_tiff\u001b[0m\u001b[1;33m[\u001b[0m\u001b[0mi\u001b[0m\u001b[1;33m]\u001b[0m\u001b[1;33m[\u001b[0m\u001b[0mj\u001b[0m\u001b[1;33m]\u001b[0m\u001b[1;33m[\u001b[0m\u001b[1;36m1\u001b[0m\u001b[1;33m]\u001b[0m\u001b[1;33m,\u001b[0m\u001b[0mrgb_tiff\u001b[0m\u001b[1;33m[\u001b[0m\u001b[0mi\u001b[0m\u001b[1;33m]\u001b[0m\u001b[1;33m[\u001b[0m\u001b[0mj\u001b[0m\u001b[1;33m]\u001b[0m\u001b[1;33m[\u001b[0m\u001b[1;36m2\u001b[0m\u001b[1;33m]\u001b[0m\u001b[1;33m)\u001b[0m\u001b[1;33m)\u001b[0m\u001b[1;33m;\u001b[0m\u001b[1;33m\u001b[0m\u001b[1;33m\u001b[0m\u001b[0m\n\u001b[0;32m     15\u001b[0m                 \u001b[0mpreservada\u001b[0m \u001b[1;33m=\u001b[0m \u001b[1;36m1\u001b[0m\u001b[1;33m;\u001b[0m \u001b[1;31m# Area preservada\u001b[0m\u001b[1;33m\u001b[0m\u001b[1;33m\u001b[0m\u001b[0m\n",
      "\u001b[1;31mIndexError\u001b[0m: index 742 is out of bounds for axis 0 with size 742"
     ]
    }
   ],
   "source": [
    "#np.savetxt('test.txt', rgb,fmt='%s',delimiter=\",\")\n",
    "arq = open(\"data.csv\", \"w\")\n",
    "arq.write(\"X, Y, B1_ORIGINAL, B2_ORIGINAL, B3_ORIGINAL, CLASSIFICACAO \\n\")\n",
    "\n",
    "preservada = 0; #false\n",
    "\n",
    "for i in range(rows_tiff):\n",
    "    for j in range(cols_shp):\n",
    "        #if((rgb_tiff[i][j][0] == 255) and (rgb_tiff[i][j][0] == 255) and (rgb_tiff[i][j][0] == 255)):\n",
    "        #arq.write(\"%s, %s, [%s-%s-%s]\\n\"% (i,j,rgb_tiff[i][j][0],rgb_tiff[i][j][1],rgb_tiff[i][j][2]));\n",
    "        if ((rgb_tiff[i][j][0] != 255) and (rgb_tiff[i][j][1] != 255) and (rgb_tiff[i][j][2] != 255)):\n",
    "            \n",
    "            if((rgb_shp[i][j][0] == 9) and (rgb_shp[i][j][1] == 1) and (rgb_shp[i][j][2] == 255)):\n",
    "                arq.write(\"%s, %s, %s, %s, %s,Água \\n\"% (i,j,rgb_tiff[i][j][0],rgb_tiff[i][j][1],rgb_tiff[i][j][2]));\n",
    "                preservada = 1; # Area preservada\n",
    "                #print(preservada)\n",
    "                \n",
    "            '''if ((rgb_shp[i][j][0] == 1) and (rgb_shp[i][j][1] == 2) and (rgb_shp[i][j][2] == 14)):\n",
    "                arq.write(\"%s, %s, %s, %s, %s, %s,Várzea \\n\"% (i,j,rgb_tiff[i][j][0],rgb_tiff[i][j][1],rgb_tiff[i][j][2]));\n",
    "\n",
    "            elif ((rgb_shp[i][j][0] == 0) and (rgb_shp[i][j][1] == 54) and (rgb_shp[i][j][2] == 210)):\n",
    "                arq.write(\"%s, %s, %s, %s, %s, %s,Igapó \\n\"% (i,j,rgb_tiff[i][j][0],rgb_tiff[i][j][1],rgb_tiffl[i][j][2]));\n",
    "\n",
    "            elif ((rgb_shp[i][j][0] == 6) and (rgb_shp[i][j][1] == 9) and (rgb_shp[i][j][2] == 49)):\n",
    "                arq.write(\"%s, %s, %s, %s, %s, %s,Zona de Trnsição \\n\"% (i,j,rgb_tiff[i][j][0],rgb_tiff[i][j][1],rgb_tiff[i][j][2]));'''\n",
    "\n",
    "            if ((rgb_shp[i][j][0] == 252) and (rgb_shp[i][j][1] == 158) and (rgb_shp[i][j][2] == 8)):\n",
    "                arq.write(\"%s, %s, %s, %s, %s,Solo exposto \\n\"% (i,j,rgb_tiff[i][j][0],rgb_tiff[i][j][1],rgb_tiff[i][j][2]));\n",
    "                \n",
    "            if ((rgb_shp[i][j][0] == 0) and (rgb_shp[i][j][1] == 86) and (rgb_shp[i][j][2] == 44)):\n",
    "                arq.write(\"%s, %s, %s, %s, %s,Floresta \\n\"% (i,j,rgb_tiff[i][j][0],rgb_tiff[i][j][1],rgb_tiff[i][j][2]));\n",
    "\n",
    "        preservada = 0\n",
    "\n",
    "arq.close()\n",
    "\n",
    "#plt.figure(1)\n",
    "#plt.imshow(rgb_Original, interpolation='nearest')\n",
    "#plt.grid()\n",
    "#plt.figure(2)\n",
    "#plt.imshow(rgb_TC, interpolation='nearest')\n",
    "#plt.grid()\n",
    "#plt.figure(3)\n",
    "#plt.imshow(rgb_Passada, interpolation='nearest')\n",
    "#plt.grid()\n",
    "#plt.show()\n",
    "\n"
   ]
  },
  {
   "cell_type": "code",
   "execution_count": null,
   "metadata": {},
   "outputs": [],
   "source": [
    "\n"
   ]
  },
  {
   "cell_type": "code",
   "execution_count": null,
   "metadata": {},
   "outputs": [],
   "source": []
  },
  {
   "cell_type": "code",
   "execution_count": null,
   "metadata": {},
   "outputs": [],
   "source": []
  }
 ],
 "metadata": {
  "kernelspec": {
   "display_name": "Python 3",
   "language": "python",
   "name": "python3"
  },
  "language_info": {
   "codemirror_mode": {
    "name": "ipython",
    "version": 3
   },
   "file_extension": ".py",
   "mimetype": "text/x-python",
   "name": "python",
   "nbconvert_exporter": "python",
   "pygments_lexer": "ipython3",
   "version": "3.7.3"
  }
 },
 "nbformat": 4,
 "nbformat_minor": 4
}
