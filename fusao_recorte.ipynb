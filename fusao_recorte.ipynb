{
 "cells": [
  {
   "cell_type": "code",
   "execution_count": 2,
   "metadata": {},
   "outputs": [],
   "source": [
    "import numpy as np\n",
    "import matplotlib.pyplot as plt\n",
    "import rasterio\n",
    "from pathlib import Path\n",
    "from rasterio.warp import reproject\n",
    "from rasterio.io import MemoryFile\n",
    "from rasterio.merge import merge"
   ]
  },
  {
   "cell_type": "code",
   "execution_count": 3,
   "metadata": {},
   "outputs": [],
   "source": [
    "def load_landsat_image(img_folder, bands):\n",
    "    image = {}\n",
    "    ds = {}\n",
    "    path = Path(img_folder)\n",
    "    for band in bands:\n",
    "        # considering the landsat images end with *_SR_B#.TIF, we will use it to locate the correct file\n",
    "        file = next(path.glob(f'*_T1_{band}.TIF'))\n",
    "        print(f'Opening file {file}')\n",
    "        ds = rasterio.open(file)\n",
    "        image.update({band: ds.read(1)})\n",
    "\n",
    "    return image, ds"
   ]
  },
  {
   "cell_type": "code",
   "execution_count": 4,
   "metadata": {},
   "outputs": [
    {
     "name": "stdout",
     "output_type": "stream",
     "text": [
      "Opening file /home/skalena/Área de trabalho/class_area/2022.08.08/LC08_L1TP_228061_20220808_20220818_02_T1_B2.TIF\n",
      "Opening file /home/skalena/Área de trabalho/class_area/2022.08.08/LC08_L1TP_228061_20220808_20220818_02_T1_B3.TIF\n",
      "Opening file /home/skalena/Área de trabalho/class_area/2022.08.08/LC08_L1TP_228061_20220808_20220818_02_T1_B4.TIF\n",
      "Opening file /home/skalena/Área de trabalho/class_area/2022.08.08/LC08_L1TP_228061_20220808_20220818_02_T1_B5.TIF\n",
      "Opening file /home/skalena/Área de trabalho/class_area/2022.08.08/LC08_L1TP_228061_20220808_20220818_02_T1_B6.TIF\n",
      "Opening file /home/skalena/Área de trabalho/class_area/2022.08.08/LC08_L1TP_228061_20220808_20220818_02_T1_B7.TIF\n",
      "Opening file /home/skalena/Área de trabalho/class_area/2022.08.08/LC08_L1TP_228061_20220808_20220818_02_T1_B8.TIF\n",
      "Opening file /home/skalena/Área de trabalho/class_area/2022.08.08/LC08_L1TP_228061_20220808_20220818_02_T1_QA_PIXEL.TIF\n"
     ]
    }
   ],
   "source": [
    "# load the image\n",
    "img, image_ds = load_landsat_image('/home/skalena/Área de trabalho/class_area/2022.08.08', ['B2', 'B3', 'B4', 'B5', 'B6','B7','B8', 'QA_PIXEL'])\n",
    "\n"
   ]
  },
  {
   "cell_type": "code",
   "execution_count": 5,
   "metadata": {},
   "outputs": [],
   "source": [
    "# create the RGB for the image\n",
    "rgb = np.stack([img['B4'], img['B3'], img['B2']], axis=2)\n",
    "rgb = rgb / rgb.max()"
   ]
  },
  {
   "cell_type": "code",
   "execution_count": 6,
   "metadata": {},
   "outputs": [],
   "source": [
    "# load the water masks\n",
    "water1_ds = rasterio.open('/home/skalena/Área de trabalho/class_area/data/occurrence_70W_0Nv1_4_2021.tif')\n",
    "\n",
    "\n",
    "water1_array = water1_ds.read(1)\n"
   ]
  },
  {
   "cell_type": "code",
   "execution_count": 7,
   "metadata": {},
   "outputs": [],
   "source": [
    "water2_ds = rasterio.open('/home/skalena/Área de trabalho/class_area/data/occurrence_70W_0Nv1_4_2021.tif')\n",
    "water2_array = water2_ds.read(1)"
   ]
  },
  {
   "cell_type": "code",
   "execution_count": 23,
   "metadata": {},
   "outputs": [
    {
     "data": {
      "text/plain": [
       "'fig, ax = plt.subplots(1, figsize=(20, 6))\\nax[0].imshow(rgb*3)\\nax[1].imshow(water1_array)\\nax[2].imshow(water2_array)'"
      ]
     },
     "execution_count": 23,
     "metadata": {},
     "output_type": "execute_result"
    }
   ],
   "source": [
    "# Plot the 3 images\n",
    "'''fig, ax = plt.subplots(1, figsize=(20, 6))\n",
    "ax[0].imshow(rgb*3)\n",
    "ax[1].imshow(water1_array)\n",
    "ax[2].imshow(water2_array)'''"
   ]
  },
  {
   "cell_type": "code",
   "execution_count": 8,
   "metadata": {},
   "outputs": [
    {
     "ename": "TypeError",
     "evalue": "'DatasetReader' object is not subscriptable",
     "output_type": "error",
     "traceback": [
      "\u001b[0;31m---------------------------------------------------------------------------\u001b[0m",
      "\u001b[0;31mTypeError\u001b[0m                                 Traceback (most recent call last)",
      "Cell \u001b[0;32mIn [8], line 1\u001b[0m\n\u001b[0;32m----> 1\u001b[0m \u001b[38;5;28mprint\u001b[39m(\u001b[38;5;124m'\u001b[39m\u001b[38;5;124mImage: \u001b[39m\u001b[38;5;130;01m\\n\u001b[39;00m\u001b[38;5;124m'\u001b[39m, image_ds[\u001b[38;5;124m'\u001b[39m\u001b[38;5;124mB2\u001b[39m\u001b[38;5;124m'\u001b[39m]\u001b[38;5;241m.\u001b[39mprofile)\n\u001b[1;32m      2\u001b[0m \u001b[38;5;28mprint\u001b[39m(\u001b[38;5;124m'\u001b[39m\u001b[38;5;124mWater mask 1: \u001b[39m\u001b[38;5;130;01m\\n\u001b[39;00m\u001b[38;5;124m'\u001b[39m, water1_ds\u001b[38;5;241m.\u001b[39mprofile)\n\u001b[1;32m      3\u001b[0m \u001b[38;5;28mprint\u001b[39m(\u001b[38;5;124m'\u001b[39m\u001b[38;5;124mWater mask 2: \u001b[39m\u001b[38;5;130;01m\\n\u001b[39;00m\u001b[38;5;124m'\u001b[39m, water2_ds\u001b[38;5;241m.\u001b[39mprofile)\n",
      "\u001b[0;31mTypeError\u001b[0m: 'DatasetReader' object is not subscriptable"
     ]
    }
   ],
   "source": [
    "print('Image: \\n', image_ds['B2'].profile)\n",
    "print('Water mask 1: \\n', water1_ds.profile)\n",
    "print('Water mask 2: \\n', water2_ds.profile)"
   ]
  },
  {
   "cell_type": "code",
   "execution_count": 35,
   "metadata": {},
   "outputs": [],
   "source": [
    "def create_dataset(data, crs, transform):\n",
    "    # Receives a 2D array, a transform and a crs to create a rasterio dataset\n",
    "    memfile = MemoryFile()\n",
    "    dataset = memfile.open(driver='GTiff', height=data.shape[0], width=data.shape[1], count=1, crs=crs, transform=transform, dtype=data.dtype)\n",
    "    dataset.write(data, 1)\n",
    "        \n",
    "    return dataset\n"
   ]
  },
  {
   "cell_type": "code",
   "execution_count": null,
   "metadata": {},
   "outputs": [],
   "source": []
  }
 ],
 "metadata": {
  "kernelspec": {
   "display_name": "Python 3 (ipykernel)",
   "language": "python",
   "name": "python3"
  },
  "language_info": {
   "codemirror_mode": {
    "name": "ipython",
    "version": 3
   },
   "file_extension": ".py",
   "mimetype": "text/x-python",
   "name": "python",
   "nbconvert_exporter": "python",
   "pygments_lexer": "ipython3",
   "version": "3.9.13"
  },
  "vscode": {
   "interpreter": {
    "hash": "176cfae1e7750b12996274bd1eb6f50746d2bbb7e9596a7aa3b038bd8df76767"
   }
  }
 },
 "nbformat": 4,
 "nbformat_minor": 4
}
